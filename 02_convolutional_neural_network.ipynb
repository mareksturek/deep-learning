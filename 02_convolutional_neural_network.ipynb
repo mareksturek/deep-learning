{
 "cells": [
  {
   "cell_type": "markdown",
   "metadata": {
    "colab_type": "text",
    "id": "3DR-eO17geWu"
   },
   "source": [
    "## Convolutional Neural Network (CNN)\n",
    "\n",
    "10/22/2020"
   ]
  },
  {
   "cell_type": "code",
   "execution_count": 23,
   "metadata": {
    "colab": {},
    "colab_type": "code",
    "id": "sCV30xyVhFbE"
   },
   "outputs": [],
   "source": [
    "### Import libraries\n",
    "\n",
    "import os\n",
    "import tensorflow as tf\n",
    "from keras.preprocessing.image import ImageDataGenerator"
   ]
  },
  {
   "cell_type": "code",
   "execution_count": 24,
   "metadata": {},
   "outputs": [],
   "source": [
    "# Change directory\n",
    "\n",
    "os.chdir('//Users/mareksturek/Documents/GitHub/deep-learning/data')"
   ]
  },
  {
   "cell_type": "code",
   "execution_count": 25,
   "metadata": {
    "colab": {},
    "colab_type": "code",
    "id": "0koUcJMJpEBD"
   },
   "outputs": [
    {
     "name": "stdout",
     "output_type": "stream",
     "text": [
      "Found 8000 images belonging to 2 classes.\n"
     ]
    }
   ],
   "source": [
    "# Preprocessing the training set\n",
    "\n",
    "train_datagen = ImageDataGenerator(rescale = 1./255,\n",
    "                                   shear_range = 0.2,\n",
    "                                   zoom_range = 0.2,\n",
    "                                   horizontal_flip = True)\n",
    "training_set = train_datagen.flow_from_directory('cnn/training_set',\n",
    "                                                 target_size = (64, 64),\n",
    "                                                 batch_size = 32,\n",
    "                                                 class_mode = 'binary')"
   ]
  },
  {
   "cell_type": "code",
   "execution_count": 26,
   "metadata": {
    "colab": {},
    "colab_type": "code",
    "id": "SH4WzfOhpKc3"
   },
   "outputs": [
    {
     "name": "stdout",
     "output_type": "stream",
     "text": [
      "Found 2000 images belonging to 2 classes.\n"
     ]
    }
   ],
   "source": [
    "# Preprocessing the test set\n",
    "\n",
    "test_datagen = ImageDataGenerator(rescale = 1./255)\n",
    "test_set = test_datagen.flow_from_directory('cnn/test_set',\n",
    "                                            target_size = (64, 64),\n",
    "                                            batch_size = 32,\n",
    "                                            class_mode = 'binary')"
   ]
  },
  {
   "cell_type": "code",
   "execution_count": 27,
   "metadata": {
    "colab": {},
    "colab_type": "code",
    "id": "SAUt4UMPlhLS"
   },
   "outputs": [],
   "source": [
    "# Building the CNN\n",
    "\n",
    "# Initialising the CNN\n",
    "cnn = tf.keras.models.Sequential()"
   ]
  },
  {
   "cell_type": "code",
   "execution_count": 28,
   "metadata": {
    "colab": {},
    "colab_type": "code",
    "id": "XPzPrMckl-hV"
   },
   "outputs": [],
   "source": [
    "# Convolution\n",
    "\n",
    "cnn.add(tf.keras.layers.Conv2D(filters=32, kernel_size=3, activation='relu', input_shape=[64, 64, 3]))"
   ]
  },
  {
   "cell_type": "code",
   "execution_count": 29,
   "metadata": {
    "colab": {},
    "colab_type": "code",
    "id": "ncpqPl69mOac"
   },
   "outputs": [],
   "source": [
    "# Pooling\n",
    "\n",
    "cnn.add(tf.keras.layers.MaxPool2D(pool_size=2, strides=2))"
   ]
  },
  {
   "cell_type": "code",
   "execution_count": 30,
   "metadata": {
    "colab": {},
    "colab_type": "code",
    "id": "i_-FZjn_m8gk"
   },
   "outputs": [],
   "source": [
    "# Adding a second convolutional layer\n",
    "\n",
    "cnn.add(tf.keras.layers.Conv2D(filters=32, kernel_size=3, activation='relu'))\n",
    "cnn.add(tf.keras.layers.MaxPool2D(pool_size=2, strides=2))"
   ]
  },
  {
   "cell_type": "code",
   "execution_count": 31,
   "metadata": {
    "colab": {},
    "colab_type": "code",
    "id": "6AZeOGCvnNZn"
   },
   "outputs": [],
   "source": [
    "# Flattening\n",
    "\n",
    "cnn.add(tf.keras.layers.Flatten())"
   ]
  },
  {
   "cell_type": "code",
   "execution_count": 32,
   "metadata": {
    "colab": {},
    "colab_type": "code",
    "id": "8GtmUlLd26Nq"
   },
   "outputs": [],
   "source": [
    "# Full connection\n",
    "\n",
    "cnn.add(tf.keras.layers.Dense(units=128, activation='relu'))"
   ]
  },
  {
   "cell_type": "code",
   "execution_count": 33,
   "metadata": {
    "colab": {},
    "colab_type": "code",
    "id": "1p_Zj1Mc3Ko_"
   },
   "outputs": [],
   "source": [
    "# Output layer\n",
    "\n",
    "cnn.add(tf.keras.layers.Dense(units=1, activation='sigmoid'))"
   ]
  },
  {
   "cell_type": "code",
   "execution_count": 34,
   "metadata": {
    "colab": {},
    "colab_type": "code",
    "id": "NALksrNQpUlJ"
   },
   "outputs": [],
   "source": [
    "# Training the CNN\n",
    "\n",
    "# Compiling the CNN\n",
    "cnn.compile(optimizer = 'adam', loss = 'binary_crossentropy', metrics = ['accuracy'])"
   ]
  },
  {
   "cell_type": "code",
   "execution_count": 35,
   "metadata": {
    "colab": {},
    "colab_type": "code",
    "id": "XUj1W4PJptta"
   },
   "outputs": [
    {
     "name": "stdout",
     "output_type": "stream",
     "text": [
      "Epoch 1/25\n",
      "250/250 [==============================] - 51s 202ms/step - loss: 0.6709 - accuracy: 0.5847 - val_loss: 0.6602 - val_accuracy: 0.6145\n",
      "Epoch 2/25\n",
      "250/250 [==============================] - 52s 210ms/step - loss: 0.6275 - accuracy: 0.6530 - val_loss: 0.5816 - val_accuracy: 0.6995\n",
      "Epoch 3/25\n",
      "250/250 [==============================] - 55s 218ms/step - loss: 0.5831 - accuracy: 0.6986 - val_loss: 0.5692 - val_accuracy: 0.7065\n",
      "Epoch 4/25\n",
      "250/250 [==============================] - 55s 218ms/step - loss: 0.5412 - accuracy: 0.7287 - val_loss: 0.5476 - val_accuracy: 0.7290\n",
      "Epoch 5/25\n",
      "250/250 [==============================] - 55s 219ms/step - loss: 0.5163 - accuracy: 0.7435 - val_loss: 0.5341 - val_accuracy: 0.7445\n",
      "Epoch 6/25\n",
      "250/250 [==============================] - 54s 217ms/step - loss: 0.4939 - accuracy: 0.7615 - val_loss: 0.5488 - val_accuracy: 0.7270\n",
      "Epoch 7/25\n",
      "250/250 [==============================] - 54s 218ms/step - loss: 0.4721 - accuracy: 0.7741 - val_loss: 0.5607 - val_accuracy: 0.7385\n",
      "Epoch 8/25\n",
      "250/250 [==============================] - 55s 220ms/step - loss: 0.4614 - accuracy: 0.7837 - val_loss: 0.4663 - val_accuracy: 0.7750\n",
      "Epoch 9/25\n",
      "250/250 [==============================] - 51s 203ms/step - loss: 0.4461 - accuracy: 0.7900 - val_loss: 0.4828 - val_accuracy: 0.7865\n",
      "Epoch 10/25\n",
      "250/250 [==============================] - 50s 200ms/step - loss: 0.4203 - accuracy: 0.8064 - val_loss: 0.4897 - val_accuracy: 0.7755\n",
      "Epoch 11/25\n",
      "250/250 [==============================] - 50s 201ms/step - loss: 0.4032 - accuracy: 0.8123 - val_loss: 0.4725 - val_accuracy: 0.7890\n",
      "Epoch 12/25\n",
      "250/250 [==============================] - 50s 199ms/step - loss: 0.3890 - accuracy: 0.8231 - val_loss: 0.4881 - val_accuracy: 0.7735\n",
      "Epoch 13/25\n",
      "250/250 [==============================] - 71s 283ms/step - loss: 0.3665 - accuracy: 0.8345 - val_loss: 0.4966 - val_accuracy: 0.7890\n",
      "Epoch 14/25\n",
      "250/250 [==============================] - 54s 215ms/step - loss: 0.3541 - accuracy: 0.8414 - val_loss: 0.5084 - val_accuracy: 0.7830\n",
      "Epoch 15/25\n",
      "250/250 [==============================] - 53s 211ms/step - loss: 0.3395 - accuracy: 0.8528 - val_loss: 0.5087 - val_accuracy: 0.7790\n",
      "Epoch 16/25\n",
      "250/250 [==============================] - 54s 216ms/step - loss: 0.3213 - accuracy: 0.8589 - val_loss: 0.4913 - val_accuracy: 0.7885\n",
      "Epoch 17/25\n",
      "250/250 [==============================] - 57s 227ms/step - loss: 0.3112 - accuracy: 0.8654 - val_loss: 0.5026 - val_accuracy: 0.7990\n",
      "Epoch 18/25\n",
      "250/250 [==============================] - 59s 236ms/step - loss: 0.2943 - accuracy: 0.8784 - val_loss: 0.4964 - val_accuracy: 0.8020\n",
      "Epoch 19/25\n",
      "250/250 [==============================] - 56s 224ms/step - loss: 0.2742 - accuracy: 0.8846 - val_loss: 0.5013 - val_accuracy: 0.7930\n",
      "Epoch 20/25\n",
      "250/250 [==============================] - 56s 224ms/step - loss: 0.2612 - accuracy: 0.8923 - val_loss: 0.5599 - val_accuracy: 0.7800\n",
      "Epoch 21/25\n",
      "250/250 [==============================] - 56s 222ms/step - loss: 0.2346 - accuracy: 0.9059 - val_loss: 0.5310 - val_accuracy: 0.7955\n",
      "Epoch 22/25\n",
      "250/250 [==============================] - 53s 210ms/step - loss: 0.2305 - accuracy: 0.9049 - val_loss: 0.5797 - val_accuracy: 0.7760\n",
      "Epoch 23/25\n",
      "250/250 [==============================] - 52s 207ms/step - loss: 0.2165 - accuracy: 0.9151 - val_loss: 0.5334 - val_accuracy: 0.7950\n",
      "Epoch 24/25\n",
      "250/250 [==============================] - 51s 204ms/step - loss: 0.2021 - accuracy: 0.9210 - val_loss: 0.5491 - val_accuracy: 0.7935\n",
      "Epoch 25/25\n",
      "250/250 [==============================] - 51s 204ms/step - loss: 0.1873 - accuracy: 0.9258 - val_loss: 0.5597 - val_accuracy: 0.7890\n"
     ]
    },
    {
     "data": {
      "text/plain": [
       "<tensorflow.python.keras.callbacks.History at 0x7ff839f5ca90>"
      ]
     },
     "execution_count": 35,
     "metadata": {},
     "output_type": "execute_result"
    }
   ],
   "source": [
    "# Training the CNN on the training set and evaluating it on the Test set\n",
    "\n",
    "cnn.fit(x = training_set, validation_data = test_set, epochs = 25)"
   ]
  },
  {
   "cell_type": "code",
   "execution_count": 44,
   "metadata": {
    "colab": {},
    "colab_type": "code",
    "id": "gsSiWEJY1BPB"
   },
   "outputs": [],
   "source": [
    "# Making a single prediction\n",
    "\n",
    "import numpy as np\n",
    "from keras.preprocessing import image\n",
    "test_image = image.load_img('cnn/single_prediction/cat_or_dog_1.jpg', target_size = (64, 64))\n",
    "test_image = image.img_to_array(test_image)\n",
    "test_image = np.expand_dims(test_image, axis = 0)\n",
    "result = cnn.predict(test_image)\n",
    "training_set.class_indices\n",
    "if result[0][0] == 1:\n",
    "  prediction = 'dog'\n",
    "else:\n",
    "  prediction = 'cat'"
   ]
  },
  {
   "cell_type": "code",
   "execution_count": 45,
   "metadata": {
    "colab": {},
    "colab_type": "code",
    "id": "ED9KB3I54c1i"
   },
   "outputs": [
    {
     "name": "stdout",
     "output_type": "stream",
     "text": [
      "dog\n"
     ]
    }
   ],
   "source": [
    "print(prediction)"
   ]
  },
  {
   "cell_type": "code",
   "execution_count": 47,
   "metadata": {},
   "outputs": [],
   "source": [
    "import numpy as np\n",
    "from keras.preprocessing import image\n",
    "test_image = image.load_img('cnn/single_prediction/cat_or_dog_2.jpg', target_size = (64, 64))\n",
    "test_image = image.img_to_array(test_image)\n",
    "test_image = np.expand_dims(test_image, axis = 0)\n",
    "result = cnn.predict(test_image)\n",
    "training_set.class_indices\n",
    "if result[0][0] == 2:\n",
    "  prediction = 'dog'\n",
    "else:\n",
    "  prediction = 'cat'"
   ]
  },
  {
   "cell_type": "code",
   "execution_count": 48,
   "metadata": {},
   "outputs": [
    {
     "name": "stdout",
     "output_type": "stream",
     "text": [
      "cat\n"
     ]
    }
   ],
   "source": [
    "print(prediction)"
   ]
  }
 ],
 "metadata": {
  "colab": {
   "collapsed_sections": [],
   "name": "convolutional_neural_network.ipynb",
   "provenance": [],
   "toc_visible": true
  },
  "kernelspec": {
   "display_name": "Python 3",
   "language": "python",
   "name": "python3"
  },
  "language_info": {
   "codemirror_mode": {
    "name": "ipython",
    "version": 3
   },
   "file_extension": ".py",
   "mimetype": "text/x-python",
   "name": "python",
   "nbconvert_exporter": "python",
   "pygments_lexer": "ipython3",
   "version": "3.8.6"
  }
 },
 "nbformat": 4,
 "nbformat_minor": 1
}
