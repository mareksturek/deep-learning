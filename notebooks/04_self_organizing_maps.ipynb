{
 "cells": [
  {
   "cell_type": "markdown",
   "metadata": {
    "colab_type": "text",
    "id": "t9oX7AL3nyLm"
   },
   "source": [
    "## Self Organizing Map (SOM)"
   ]
  },
  {
   "cell_type": "markdown",
   "metadata": {
    "colab_type": "text",
    "id": "r9maNhdd65pB"
   },
   "source": [
    "---"
   ]
  },
  {
   "cell_type": "code",
   "execution_count": 1,
   "metadata": {
    "colab": {},
    "colab_type": "code",
    "id": "gaSkOFKKBB3b"
   },
   "outputs": [],
   "source": [
    "# Importing libraries\n",
    "\n",
    "import os\n",
    "import numpy as np\n",
    "import pandas as pd\n",
    "import matplotlib.pyplot as plt"
   ]
  },
  {
   "cell_type": "code",
   "execution_count": 2,
   "metadata": {},
   "outputs": [
    {
     "name": "stdout",
     "output_type": "stream",
     "text": [
      "<class 'pandas.core.frame.DataFrame'>\n",
      "RangeIndex: 690 entries, 0 to 689\n",
      "Data columns (total 16 columns):\n",
      " #   Column      Non-Null Count  Dtype  \n",
      "---  ------      --------------  -----  \n",
      " 0   CustomerID  690 non-null    int64  \n",
      " 1   A1          690 non-null    int64  \n",
      " 2   A2          690 non-null    float64\n",
      " 3   A3          690 non-null    float64\n",
      " 4   A4          690 non-null    int64  \n",
      " 5   A5          690 non-null    int64  \n",
      " 6   A6          690 non-null    int64  \n",
      " 7   A7          690 non-null    float64\n",
      " 8   A8          690 non-null    int64  \n",
      " 9   A9          690 non-null    int64  \n",
      " 10  A10         690 non-null    int64  \n",
      " 11  A11         690 non-null    int64  \n",
      " 12  A12         690 non-null    int64  \n",
      " 13  A13         690 non-null    int64  \n",
      " 14  A14         690 non-null    int64  \n",
      " 15  Class       690 non-null    int64  \n",
      "dtypes: float64(3), int64(13)\n",
      "memory usage: 86.4 KB\n"
     ]
    }
   ],
   "source": [
    "# Import dataset\n",
    "\n",
    "os.chdir('//Users/mareksturek/Documents/GitHub/deep-learning/data')\n",
    "dataset = pd.read_csv('rawcreditcardapplications.csv')\n",
    "dataset.info()"
   ]
  },
  {
   "cell_type": "code",
   "execution_count": 3,
   "metadata": {
    "colab": {},
    "colab_type": "code",
    "id": "4hgeaN3CoRfl"
   },
   "outputs": [],
   "source": [
    "# Create X, y\n",
    "\n",
    "X = dataset.iloc[:, :-1].values \n",
    "y = dataset.iloc[:, -1].values"
   ]
  },
  {
   "cell_type": "code",
   "execution_count": 4,
   "metadata": {
    "colab": {},
    "colab_type": "code",
    "id": "sY7JiUxwoSOd"
   },
   "outputs": [],
   "source": [
    "# Feature scaling\n",
    "\n",
    "from sklearn.preprocessing import MinMaxScaler\n",
    "sc = MinMaxScaler(feature_range = (0,1))\n",
    "X = sc.fit_transform(X)"
   ]
  },
  {
   "cell_type": "code",
   "execution_count": 5,
   "metadata": {
    "colab": {},
    "colab_type": "code",
    "id": "3iuAhM6ooS0k"
   },
   "outputs": [],
   "source": [
    "# Training the SOM\n",
    "\n",
    "from minisom import MiniSom\n",
    "som = MiniSom(x = 10, y = 10, input_len = 15, sigma = 1.0, learning_rate = 0.5)\n",
    "som.random_weights_init(X)\n",
    "som.train_random(data = X, num_iteration = 100)"
   ]
  },
  {
   "cell_type": "code",
   "execution_count": 6,
   "metadata": {
    "colab": {},
    "colab_type": "code",
    "id": "XzrIX4fZoTQj"
   },
   "outputs": [
    {
     "data": {
      "image/png": "[encoded data removed]",
      "text/plain": [
       "<Figure size 432x288 with 2 Axes>"
      ]
     },
     "metadata": {
      "needs_background": "light"
     },
     "output_type": "display_data"
    }
   ],
   "source": [
    "# Visualizing the results\n",
    "\n",
    "from pylab import bone, pcolor, colorbar, plot, show\n",
    "bone()\n",
    "pcolor(som.distance_map().T)\n",
    "colorbar()\n",
    "markers = ['o', 's']\n",
    "colors = ['r', 'g']\n",
    "for i, x in enumerate(X):\n",
    "    w = som.winner(x)\n",
    "    plot(w[0] + 0.5,\n",
    "         w[1] + 0.5,\n",
    "         markers[y[i]],\n",
    "         markeredgecolor = colors[y[i]],\n",
    "         markerfacecolor = 'None',\n",
    "         markersize = 10,\n",
    "         markeredgewidth = 2)\n",
    "show()"
   ]
  },
  {
   "cell_type": "code",
   "execution_count": 7,
   "metadata": {
    "colab": {},
    "colab_type": "code",
    "id": "4xd-jb8doTlM"
   },
   "outputs": [
    {
     "data": {
      "text/plain": [
       "'\\nmappings = som.win_map(X)\\nfrauds = np.concatenate((mappings[(8,1)], mappings[(6,8)]), axis = 0)\\nfrauds = sc.inverse_transform(frauds)\\n'"
      ]
     },
     "execution_count": 7,
     "metadata": {},
     "output_type": "execute_result"
    }
   ],
   "source": [
    "# Finding the frauds\n",
    "\n",
    "\"\"\"\n",
    "mappings = som.win_map(X)\n",
    "frauds = np.concatenate((mappings[(8,1)], mappings[(6,8)]), axis = 0)\n",
    "frauds = sc.inverse_transform(frauds)\n",
    "\"\"\""
   ]
  },
  {
   "cell_type": "code",
   "execution_count": 8,
   "metadata": {
    "colab": {
     "base_uri": "https://localhost:8080/",
     "height": 544
    },
    "colab_type": "code",
    "id": "54a4NnJo8761",
    "outputId": "1d7ae019-4598-4750-a64f-fdedfdc7fe48"
   },
   "outputs": [
    {
     "data": {
      "text/plain": [
       "\"\\nprint('Fraud Customer IDs')\\nfor i in frauds[:, 0]:\\n  print(int(i))\\n\""
      ]
     },
     "execution_count": 8,
     "metadata": {},
     "output_type": "execute_result"
    }
   ],
   "source": [
    "# Printing the Fraud clients\n",
    "\n",
    "\"\"\"\n",
    "print('Fraud Customer IDs')\n",
    "for i in frauds[:, 0]:\n",
    "  print(int(i))\n",
    "\"\"\""
   ]
  }
 ],
 "metadata": {
  "colab": {
   "collapsed_sections": [],
   "name": "SOM.ipynb",
   "provenance": [],
   "toc_visible": true
  },
  "kernelspec": {
   "display_name": "Python 3",
   "language": "python",
   "name": "python3"
  },
  "language_info": {
   "codemirror_mode": {
    "name": "ipython",
    "version": 3
   },
   "file_extension": ".py",
   "mimetype": "text/x-python",
   "name": "python",
   "nbconvert_exporter": "python",
   "pygments_lexer": "ipython3",
   "version": "3.8.6"
  }
 },
 "nbformat": 4,
 "nbformat_minor": 1
}
