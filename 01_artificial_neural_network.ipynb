{
 "cells": [
  {
   "cell_type": "markdown",
   "metadata": {
    "colab_type": "text",
    "id": "lP6JLo1tGNBg"
   },
   "source": [
    "## Artificial Neural Network (ANN)\n",
    "\n",
    "10/22/2020"
   ]
  },
  {
   "cell_type": "markdown",
   "metadata": {
    "colab_type": "text",
    "id": "gWZyYmS_UE_L"
   },
   "source": [
    "---"
   ]
  },
  {
   "cell_type": "code",
   "execution_count": 3,
   "metadata": {
    "colab": {},
    "colab_type": "code",
    "id": "MxkJoQBkUIHC"
   },
   "outputs": [],
   "source": [
    "# Import libraries\n",
    "\n",
    "import os\n",
    "import numpy as np\n",
    "import pandas as pd\n",
    "import tensorflow as tf"
   ]
  },
  {
   "cell_type": "code",
   "execution_count": 20,
   "metadata": {
    "colab_type": "text",
    "id": "1E0Q3aoKUCRX"
   },
   "outputs": [
    {
     "name": "stdout",
     "output_type": "stream",
     "text": [
      "<class 'pandas.core.frame.DataFrame'>\n",
      "RangeIndex: 10000 entries, 0 to 9999\n",
      "Data columns (total 14 columns):\n",
      " #   Column           Non-Null Count  Dtype  \n",
      "---  ------           --------------  -----  \n",
      " 0   RowNumber        10000 non-null  int64  \n",
      " 1   CustomerId       10000 non-null  int64  \n",
      " 2   Surname          10000 non-null  object \n",
      " 3   CreditScore      10000 non-null  int64  \n",
      " 4   Geography        10000 non-null  object \n",
      " 5   Gender           10000 non-null  object \n",
      " 6   Age              10000 non-null  int64  \n",
      " 7   Tenure           10000 non-null  int64  \n",
      " 8   Balance          10000 non-null  float64\n",
      " 9   NumOfProducts    10000 non-null  int64  \n",
      " 10  HasCrCard        10000 non-null  int64  \n",
      " 11  IsActiveMember   10000 non-null  int64  \n",
      " 12  EstimatedSalary  10000 non-null  float64\n",
      " 13  Exited           10000 non-null  int64  \n",
      "dtypes: float64(2), int64(9), object(3)\n",
      "memory usage: 1.1+ MB\n"
     ]
    }
   ],
   "source": [
    "# Import dataset\n",
    "\n",
    "os.chdir('//Users/mareksturek/Documents/GitHub/deep-learning/data')\n",
    "dataset = pd.read_csv('rawchurnmodelling.csv')\n",
    "dataset.info()"
   ]
  },
  {
   "cell_type": "code",
   "execution_count": 8,
   "metadata": {
    "colab": {},
    "colab_type": "code",
    "id": "MXUkhkMfU4wq"
   },
   "outputs": [],
   "source": [
    "# Create X, y\n",
    "\n",
    "X = dataset.iloc[:, 3:-1].values\n",
    "y = dataset.iloc[:, -1].values"
   ]
  },
  {
   "cell_type": "code",
   "execution_count": 9,
   "metadata": {
    "colab": {},
    "colab_type": "code",
    "id": "PxVKWXxLbczC"
   },
   "outputs": [],
   "source": [
    "# Encoding categorical data\n",
    "\n",
    "#Label Enconding the \"Gender\" column\n",
    "from sklearn.preprocessing import LabelEncoder\n",
    "le = LabelEncoder()\n",
    "X[:, 2] = le.fit_transform(X[:, 2])\n",
    "\n",
    "#Label Enconding the \"Geography\" column\n",
    "from sklearn.compose import ColumnTransformer\n",
    "from sklearn.preprocessing import OneHotEncoder\n",
    "ct = ColumnTransformer(transformers=[('encoder', OneHotEncoder(), [1])], remainder='passthrough')\n",
    "X = np.array(ct.fit_transform(X))"
   ]
  },
  {
   "cell_type": "code",
   "execution_count": 10,
   "metadata": {
    "colab": {},
    "colab_type": "code",
    "id": "Z-TDt0Y_XEfc"
   },
   "outputs": [],
   "source": [
    "# Splitting the dataset into the training & test set \n",
    "\n",
    "from sklearn.model_selection import train_test_split\n",
    "X_train, X_test, y_train, y_test = train_test_split(X, y, test_size = 0.2, random_state = 0)"
   ]
  },
  {
   "cell_type": "code",
   "execution_count": 11,
   "metadata": {
    "colab": {},
    "colab_type": "code",
    "id": "ViCrE00rV8Sk"
   },
   "outputs": [],
   "source": [
    "# Feature scaling\n",
    "\n",
    "from sklearn.preprocessing import StandardScaler\n",
    "sc = StandardScaler()\n",
    "X_train = sc.fit_transform(X_train)\n",
    "X_test = sc.transform(X_test)"
   ]
  },
  {
   "cell_type": "code",
   "execution_count": 12,
   "metadata": {
    "colab": {},
    "colab_type": "code",
    "id": "3dtrScHxXQox"
   },
   "outputs": [],
   "source": [
    "# Building the ANN\n",
    "\n",
    "# Initializing the ANN\n",
    "ann = tf.keras.models.Sequential()"
   ]
  },
  {
   "cell_type": "code",
   "execution_count": 13,
   "metadata": {
    "colab": {},
    "colab_type": "code",
    "id": "bppGycBXYCQr"
   },
   "outputs": [],
   "source": [
    "# Adding the input layer and the first hidden layer\n",
    "\n",
    "ann.add(tf.keras.layers.Dense(units=6, activation='relu'))"
   ]
  },
  {
   "cell_type": "code",
   "execution_count": 14,
   "metadata": {
    "colab": {},
    "colab_type": "code",
    "id": "JneR0u0sYRTd"
   },
   "outputs": [],
   "source": [
    "# Adding the second hidden layer\n",
    "\n",
    "ann.add(tf.keras.layers.Dense(units=6, activation='relu'))"
   ]
  },
  {
   "cell_type": "code",
   "execution_count": 15,
   "metadata": {
    "colab": {},
    "colab_type": "code",
    "id": "Cn3x41RBYfvY"
   },
   "outputs": [],
   "source": [
    "# Adding the output layer\n",
    "\n",
    "ann.add(tf.keras.layers.Dense(units=1, activation='sigmoid'))"
   ]
  },
  {
   "cell_type": "code",
   "execution_count": 16,
   "metadata": {
    "colab": {},
    "colab_type": "code",
    "id": "fG3RrwDXZEaS"
   },
   "outputs": [],
   "source": [
    "# Training the ANN\n",
    "\n",
    "# Compiling the ANN\n",
    "ann.compile(optimizer = 'adam', loss = 'binary_crossentropy', metrics = ['accuracy'])"
   ]
  },
  {
   "cell_type": "code",
   "execution_count": 17,
   "metadata": {
    "colab": {
     "base_uri": "https://localhost:8080/",
     "height": 1000
    },
    "colab_type": "code",
    "id": "nHZ-LKv_ZRb3",
    "outputId": "718cc4b0-b5aa-40f0-9b20-d3d31730a531"
   },
   "outputs": [
    {
     "name": "stdout",
     "output_type": "stream",
     "text": [
      "Epoch 1/100\n",
      "250/250 [==============================] - 0s 883us/step - loss: 0.5002 - accuracy: 0.7960\n",
      "Epoch 2/100\n",
      "250/250 [==============================] - 0s 951us/step - loss: 0.4542 - accuracy: 0.7960\n",
      "Epoch 3/100\n",
      "250/250 [==============================] - 0s 944us/step - loss: 0.4415 - accuracy: 0.7960\n",
      "Epoch 4/100\n",
      "250/250 [==============================] - 0s 971us/step - loss: 0.4355 - accuracy: 0.7960\n",
      "Epoch 5/100\n",
      "250/250 [==============================] - 0s 888us/step - loss: 0.4321 - accuracy: 0.7960\n",
      "Epoch 6/100\n",
      "250/250 [==============================] - 0s 951us/step - loss: 0.4292 - accuracy: 0.7960\n",
      "Epoch 7/100\n",
      "250/250 [==============================] - 0s 893us/step - loss: 0.4265 - accuracy: 0.7960\n",
      "Epoch 8/100\n",
      "250/250 [==============================] - 0s 930us/step - loss: 0.4241 - accuracy: 0.7979\n",
      "Epoch 9/100\n",
      "250/250 [==============================] - 0s 901us/step - loss: 0.4216 - accuracy: 0.8052\n",
      "Epoch 10/100\n",
      "250/250 [==============================] - 0s 926us/step - loss: 0.4189 - accuracy: 0.8133\n",
      "Epoch 11/100\n",
      "250/250 [==============================] - 0s 968us/step - loss: 0.4165 - accuracy: 0.8167\n",
      "Epoch 12/100\n",
      "250/250 [==============================] - 0s 896us/step - loss: 0.4141 - accuracy: 0.8215\n",
      "Epoch 13/100\n",
      "250/250 [==============================] - 0s 953us/step - loss: 0.4120 - accuracy: 0.8255\n",
      "Epoch 14/100\n",
      "250/250 [==============================] - 0s 898us/step - loss: 0.4107 - accuracy: 0.8264\n",
      "Epoch 15/100\n",
      "250/250 [==============================] - 0s 961us/step - loss: 0.4092 - accuracy: 0.8294\n",
      "Epoch 16/100\n",
      "250/250 [==============================] - 0s 921us/step - loss: 0.4081 - accuracy: 0.8309\n",
      "Epoch 17/100\n",
      "250/250 [==============================] - 0s 927us/step - loss: 0.4067 - accuracy: 0.8321\n",
      "Epoch 18/100\n",
      "250/250 [==============================] - 0s 925us/step - loss: 0.4061 - accuracy: 0.8322\n",
      "Epoch 19/100\n",
      "250/250 [==============================] - 0s 923us/step - loss: 0.4050 - accuracy: 0.8339\n",
      "Epoch 20/100\n",
      "250/250 [==============================] - 0s 950us/step - loss: 0.4044 - accuracy: 0.8331\n",
      "Epoch 21/100\n",
      "250/250 [==============================] - 0s 922us/step - loss: 0.4040 - accuracy: 0.8341\n",
      "Epoch 22/100\n",
      "250/250 [==============================] - 0s 911us/step - loss: 0.4033 - accuracy: 0.8342\n",
      "Epoch 23/100\n",
      "250/250 [==============================] - 0s 910us/step - loss: 0.4024 - accuracy: 0.8350\n",
      "Epoch 24/100\n",
      "250/250 [==============================] - 0s 1ms/step - loss: 0.4021 - accuracy: 0.8354\n",
      "Epoch 25/100\n",
      "250/250 [==============================] - 0s 970us/step - loss: 0.4017 - accuracy: 0.8340\n",
      "Epoch 26/100\n",
      "250/250 [==============================] - 0s 947us/step - loss: 0.4012 - accuracy: 0.8342\n",
      "Epoch 27/100\n",
      "250/250 [==============================] - 0s 962us/step - loss: 0.4006 - accuracy: 0.8347\n",
      "Epoch 28/100\n",
      "250/250 [==============================] - 0s 932us/step - loss: 0.4004 - accuracy: 0.8355\n",
      "Epoch 29/100\n",
      "250/250 [==============================] - 0s 928us/step - loss: 0.3998 - accuracy: 0.8355\n",
      "Epoch 30/100\n",
      "250/250 [==============================] - 0s 965us/step - loss: 0.3998 - accuracy: 0.8350\n",
      "Epoch 31/100\n",
      "250/250 [==============================] - 0s 896us/step - loss: 0.3992 - accuracy: 0.8356\n",
      "Epoch 32/100\n",
      "250/250 [==============================] - 0s 946us/step - loss: 0.3989 - accuracy: 0.8359\n",
      "Epoch 33/100\n",
      "250/250 [==============================] - 0s 889us/step - loss: 0.3987 - accuracy: 0.8356\n",
      "Epoch 34/100\n",
      "250/250 [==============================] - 0s 947us/step - loss: 0.3983 - accuracy: 0.8363\n",
      "Epoch 35/100\n",
      "250/250 [==============================] - 0s 891us/step - loss: 0.3982 - accuracy: 0.8350\n",
      "Epoch 36/100\n",
      "250/250 [==============================] - 0s 981us/step - loss: 0.3978 - accuracy: 0.8359\n",
      "Epoch 37/100\n",
      "250/250 [==============================] - 0s 936us/step - loss: 0.3978 - accuracy: 0.8367\n",
      "Epoch 38/100\n",
      "250/250 [==============================] - 0s 932us/step - loss: 0.3976 - accuracy: 0.8366\n",
      "Epoch 39/100\n",
      "250/250 [==============================] - 0s 941us/step - loss: 0.3970 - accuracy: 0.8367\n",
      "Epoch 40/100\n",
      "250/250 [==============================] - 0s 923us/step - loss: 0.3970 - accuracy: 0.8369\n",
      "Epoch 41/100\n",
      "250/250 [==============================] - 0s 976us/step - loss: 0.3969 - accuracy: 0.8357\n",
      "Epoch 42/100\n",
      "250/250 [==============================] - 0s 922us/step - loss: 0.3965 - accuracy: 0.8360\n",
      "Epoch 43/100\n",
      "250/250 [==============================] - 0s 897us/step - loss: 0.3964 - accuracy: 0.8369\n",
      "Epoch 44/100\n",
      "250/250 [==============================] - 0s 958us/step - loss: 0.3962 - accuracy: 0.8375\n",
      "Epoch 45/100\n",
      "250/250 [==============================] - 0s 978us/step - loss: 0.3957 - accuracy: 0.8350\n",
      "Epoch 46/100\n",
      "250/250 [==============================] - 0s 925us/step - loss: 0.3961 - accuracy: 0.8365\n",
      "Epoch 47/100\n",
      "250/250 [==============================] - 0s 941us/step - loss: 0.3960 - accuracy: 0.8351\n",
      "Epoch 48/100\n",
      "250/250 [==============================] - 0s 964us/step - loss: 0.3952 - accuracy: 0.8363\n",
      "Epoch 49/100\n",
      "250/250 [==============================] - 0s 906us/step - loss: 0.3955 - accuracy: 0.8354\n",
      "Epoch 50/100\n",
      "250/250 [==============================] - 0s 1ms/step - loss: 0.3952 - accuracy: 0.8356\n",
      "Epoch 51/100\n",
      "250/250 [==============================] - 0s 1ms/step - loss: 0.3949 - accuracy: 0.8349\n",
      "Epoch 52/100\n",
      "250/250 [==============================] - 0s 1ms/step - loss: 0.3950 - accuracy: 0.8359\n",
      "Epoch 53/100\n",
      "250/250 [==============================] - 0s 1ms/step - loss: 0.3947 - accuracy: 0.8384\n",
      "Epoch 54/100\n",
      "250/250 [==============================] - 0s 830us/step - loss: 0.3945 - accuracy: 0.8347\n",
      "Epoch 55/100\n",
      "250/250 [==============================] - 0s 1ms/step - loss: 0.3944 - accuracy: 0.8361\n",
      "Epoch 56/100\n",
      "250/250 [==============================] - 0s 927us/step - loss: 0.3945 - accuracy: 0.8355\n",
      "Epoch 57/100\n",
      "250/250 [==============================] - 0s 2ms/step - loss: 0.3939 - accuracy: 0.8344\n",
      "Epoch 58/100\n",
      "250/250 [==============================] - 0s 1ms/step - loss: 0.3942 - accuracy: 0.8364\n",
      "Epoch 59/100\n",
      "250/250 [==============================] - 0s 1ms/step - loss: 0.3938 - accuracy: 0.8370\n",
      "Epoch 60/100\n",
      "250/250 [==============================] - 0s 1ms/step - loss: 0.3938 - accuracy: 0.8361\n",
      "Epoch 61/100\n",
      "250/250 [==============================] - 0s 1ms/step - loss: 0.3937 - accuracy: 0.8365\n",
      "Epoch 62/100\n",
      "250/250 [==============================] - 0s 1ms/step - loss: 0.3935 - accuracy: 0.8363\n",
      "Epoch 63/100\n",
      "250/250 [==============================] - 0s 908us/step - loss: 0.3933 - accuracy: 0.8364\n",
      "Epoch 64/100\n",
      "250/250 [==============================] - 0s 1ms/step - loss: 0.3929 - accuracy: 0.8367\n",
      "Epoch 65/100\n",
      "250/250 [==============================] - 0s 1ms/step - loss: 0.3928 - accuracy: 0.8386\n",
      "Epoch 66/100\n",
      "250/250 [==============================] - 0s 1ms/step - loss: 0.3922 - accuracy: 0.8372\n",
      "Epoch 67/100\n",
      "250/250 [==============================] - 0s 1ms/step - loss: 0.3916 - accuracy: 0.8365\n",
      "Epoch 68/100\n",
      "250/250 [==============================] - 0s 1ms/step - loss: 0.3913 - accuracy: 0.8366\n",
      "Epoch 69/100\n",
      "250/250 [==============================] - 0s 2ms/step - loss: 0.3903 - accuracy: 0.8367\n",
      "Epoch 70/100\n",
      "250/250 [==============================] - 0s 2ms/step - loss: 0.3893 - accuracy: 0.8370\n",
      "Epoch 71/100\n",
      "250/250 [==============================] - 0s 1ms/step - loss: 0.3891 - accuracy: 0.8378\n",
      "Epoch 72/100\n",
      "250/250 [==============================] - 0s 1ms/step - loss: 0.3877 - accuracy: 0.8371\n",
      "Epoch 73/100\n",
      "250/250 [==============================] - 0s 1ms/step - loss: 0.3866 - accuracy: 0.8391\n",
      "Epoch 74/100\n",
      "250/250 [==============================] - 0s 1ms/step - loss: 0.3853 - accuracy: 0.8415\n",
      "Epoch 75/100\n",
      "250/250 [==============================] - 0s 1ms/step - loss: 0.3828 - accuracy: 0.8399\n",
      "Epoch 76/100\n",
      "250/250 [==============================] - 0s 1ms/step - loss: 0.3798 - accuracy: 0.8430\n",
      "Epoch 77/100\n",
      "250/250 [==============================] - 0s 1ms/step - loss: 0.3769 - accuracy: 0.8441\n",
      "Epoch 78/100\n",
      "250/250 [==============================] - 0s 1ms/step - loss: 0.3727 - accuracy: 0.8454\n",
      "Epoch 79/100\n",
      "250/250 [==============================] - 0s 1ms/step - loss: 0.3695 - accuracy: 0.8489\n",
      "Epoch 80/100\n",
      "250/250 [==============================] - 0s 978us/step - loss: 0.3654 - accuracy: 0.8497\n",
      "Epoch 81/100\n",
      "250/250 [==============================] - 0s 861us/step - loss: 0.3621 - accuracy: 0.8495\n",
      "Epoch 82/100\n",
      "250/250 [==============================] - 0s 890us/step - loss: 0.3586 - accuracy: 0.8526\n",
      "Epoch 83/100\n",
      "250/250 [==============================] - 0s 892us/step - loss: 0.3558 - accuracy: 0.8541\n",
      "Epoch 84/100\n",
      "250/250 [==============================] - 0s 1ms/step - loss: 0.3528 - accuracy: 0.8554\n",
      "Epoch 85/100\n",
      "250/250 [==============================] - 0s 1ms/step - loss: 0.3504 - accuracy: 0.8562\n",
      "Epoch 86/100\n",
      "250/250 [==============================] - 0s 1ms/step - loss: 0.3481 - accuracy: 0.8566\n",
      "Epoch 87/100\n",
      "250/250 [==============================] - 0s 1ms/step - loss: 0.3463 - accuracy: 0.8593\n",
      "Epoch 88/100\n",
      "250/250 [==============================] - 0s 941us/step - loss: 0.3449 - accuracy: 0.8597\n",
      "Epoch 89/100\n",
      "250/250 [==============================] - 0s 1ms/step - loss: 0.3435 - accuracy: 0.8591\n",
      "Epoch 90/100\n",
      "250/250 [==============================] - 0s 1ms/step - loss: 0.3424 - accuracy: 0.8611\n",
      "Epoch 91/100\n",
      "250/250 [==============================] - 0s 1ms/step - loss: 0.3416 - accuracy: 0.8596\n",
      "Epoch 92/100\n",
      "250/250 [==============================] - 0s 1ms/step - loss: 0.3412 - accuracy: 0.8615\n",
      "Epoch 93/100\n",
      "250/250 [==============================] - 0s 1ms/step - loss: 0.3409 - accuracy: 0.8609\n",
      "Epoch 94/100\n",
      "250/250 [==============================] - 0s 1ms/step - loss: 0.3399 - accuracy: 0.8620\n",
      "Epoch 95/100\n",
      "250/250 [==============================] - 0s 1ms/step - loss: 0.3396 - accuracy: 0.8629\n",
      "Epoch 96/100\n",
      "250/250 [==============================] - 0s 1ms/step - loss: 0.3396 - accuracy: 0.8630\n",
      "Epoch 97/100\n",
      "250/250 [==============================] - 0s 1ms/step - loss: 0.3393 - accuracy: 0.8622\n",
      "Epoch 98/100\n",
      "250/250 [==============================] - 0s 977us/step - loss: 0.3392 - accuracy: 0.8624\n",
      "Epoch 99/100\n",
      "250/250 [==============================] - 0s 1ms/step - loss: 0.3387 - accuracy: 0.8634\n",
      "Epoch 100/100\n",
      "250/250 [==============================] - 0s 949us/step - loss: 0.3390 - accuracy: 0.8610\n"
     ]
    },
    {
     "data": {
      "text/plain": [
       "<tensorflow.python.keras.callbacks.History at 0x7fb4841d37f0>"
      ]
     },
     "execution_count": 17,
     "metadata": {},
     "output_type": "execute_result"
    }
   ],
   "source": [
    "# Training the ANN on the training set\n",
    "\n",
    "ann.fit(X_train, y_train, batch_size = 32, epochs = 100)"
   ]
  },
  {
   "cell_type": "markdown",
   "metadata": {
    "colab_type": "text",
    "id": "tJj5k2MxZga3"
   },
   "source": [
    "### Predicting the result of a single observation\n",
    "\n",
    "An example choice is listed below:\n",
    "\n",
    "- Geography: France\n",
    "- Credit Score: 600\n",
    "- Gender: Male\n",
    "- Age: 40 years old\n",
    "- Tenure: 3 years\n",
    "- Balance: \\$ 60000\n",
    "- Number of Products: 2\n",
    "- Does this customer have a credit card ? Yes\n",
    "- Is this customer an Active Member: Yes\n",
    "- Estimated Salary: \\$ 50000\n",
    "\n",
    "So, should we say goodbye to that customer ?"
   ]
  },
  {
   "cell_type": "code",
   "execution_count": 21,
   "metadata": {
    "colab": {
     "base_uri": "https://localhost:8080/",
     "height": 34
    },
    "colab_type": "code",
    "id": "2d8IoCCkeWGL",
    "outputId": "957f3970-e197-4c3b-a150-7f69dc567f5d"
   },
   "outputs": [
    {
     "name": "stdout",
     "output_type": "stream",
     "text": [
      "[[False]]\n"
     ]
    }
   ],
   "source": [
    "print(ann.predict(sc.transform([[1, 0, 0, 600, 1, 40, 3, 60000, 2, 1, 1, 50000]])) > 0.5)"
   ]
  },
  {
   "cell_type": "code",
   "execution_count": 22,
   "metadata": {
    "colab": {
     "base_uri": "https://localhost:8080/",
     "height": 137
    },
    "colab_type": "code",
    "id": "nIyEeQdRZwgs",
    "outputId": "82330ba8-9bdc-4fd1-d3cf-b6d78ee7c2a3"
   },
   "outputs": [
    {
     "name": "stdout",
     "output_type": "stream",
     "text": [
      "[[0 0]\n",
      " [0 1]\n",
      " [0 0]\n",
      " ...\n",
      " [0 0]\n",
      " [0 0]\n",
      " [0 0]]\n"
     ]
    }
   ],
   "source": [
    "# Predicting the test set results\n",
    "\n",
    "y_pred = ann.predict(X_test)\n",
    "y_pred = (y_pred > 0.5)\n",
    "print(np.concatenate((y_pred.reshape(len(y_pred),1), y_test.reshape(len(y_test),1)),1))"
   ]
  },
  {
   "cell_type": "code",
   "execution_count": 23,
   "metadata": {
    "colab": {
     "base_uri": "https://localhost:8080/",
     "height": 68
    },
    "colab_type": "code",
    "id": "ci6K_r6LaF6P",
    "outputId": "4d854e9e-22d5-432f-f6e5-a102fe3ae0bd"
   },
   "outputs": [
    {
     "name": "stdout",
     "output_type": "stream",
     "text": [
      "[[1510   85]\n",
      " [ 193  212]]\n"
     ]
    },
    {
     "data": {
      "text/plain": [
       "0.861"
      ]
     },
     "execution_count": 23,
     "metadata": {},
     "output_type": "execute_result"
    }
   ],
   "source": [
    "# Confusion matrix\n",
    "\n",
    "from sklearn.metrics import confusion_matrix, accuracy_score\n",
    "cm = confusion_matrix(y_test, y_pred)\n",
    "print(cm)\n",
    "accuracy_score(y_test, y_pred)"
   ]
  }
 ],
 "metadata": {
  "colab": {
   "collapsed_sections": [],
   "name": "artificial_neural_network.ipynb",
   "provenance": [],
   "toc_visible": true
  },
  "kernelspec": {
   "display_name": "Python 3",
   "language": "python",
   "name": "python3"
  },
  "language_info": {
   "codemirror_mode": {
    "name": "ipython",
    "version": 3
   },
   "file_extension": ".py",
   "mimetype": "text/x-python",
   "name": "python",
   "nbconvert_exporter": "python",
   "pygments_lexer": "ipython3",
   "version": "3.8.6"
  }
 },
 "nbformat": 4,
 "nbformat_minor": 1
}
