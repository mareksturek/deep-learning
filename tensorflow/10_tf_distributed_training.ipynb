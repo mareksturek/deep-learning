{
 "cells": [
  {
   "cell_type": "markdown",
   "metadata": {
    "id": "7eeB9h7f-5Pk"
   },
   "source": [
    "## Distributed training of TensorFlow"
   ]
  },
  {
   "cell_type": "markdown",
   "metadata": {
    "colab": {
     "base_uri": "https://localhost:8080/",
     "height": 392
    },
    "id": "wZML5kPN-k8a",
    "outputId": "59c89aab-53a6-4204-cef5-6de742dd6f0c"
   },
   "source": [
    "---"
   ]
  },
  {
   "cell_type": "code",
   "execution_count": 1,
   "metadata": {
    "id": "SJgY-K01ELTU"
   },
   "outputs": [],
   "source": [
    "# Import libraries\n",
    "\n",
    "import time\n",
    "import numpy as np\n",
    "import tensorflow as tf\n",
    "from tensorflow.keras.datasets import fashion_mnist"
   ]
  },
  {
   "cell_type": "code",
   "execution_count": 2,
   "metadata": {
    "id": "G1Ha87twDSHS"
   },
   "outputs": [],
   "source": [
    "# Loading the MNIST dataset\n",
    "\n",
    "(X_train, y_train), (X_test, y_test) = fashion_mnist.load_data()"
   ]
  },
  {
   "cell_type": "code",
   "execution_count": 3,
   "metadata": {
    "id": "iiCH6RVDEmdS"
   },
   "outputs": [],
   "source": [
    "# Image normalization\n",
    "\n",
    "X_train = X_train / 255.\n",
    "X_test = X_test / 255."
   ]
  },
  {
   "cell_type": "code",
   "execution_count": 4,
   "metadata": {
    "colab": {
     "base_uri": "https://localhost:8080/",
     "height": 36
    },
    "id": "dKO-LUwRF_VN",
    "outputId": "54171b8d-103e-433e-c884-99a490a05579"
   },
   "outputs": [
    {
     "data": {
      "text/plain": [
       "(60000, 28, 28)"
      ]
     },
     "execution_count": 4,
     "metadata": {},
     "output_type": "execute_result"
    }
   ],
   "source": [
    "# X_train shape\n",
    "\n",
    "X_train.shape"
   ]
  },
  {
   "cell_type": "code",
   "execution_count": 5,
   "metadata": {
    "id": "jKSk6QhDEpTR"
   },
   "outputs": [],
   "source": [
    "# # Dataset reshaping\n",
    "\n",
    "X_train = X_train.reshape(-1, 28*28)\n",
    "X_test = X_test.reshape(-1, 28*28)"
   ]
  },
  {
   "cell_type": "code",
   "execution_count": 6,
   "metadata": {
    "colab": {
     "base_uri": "https://localhost:8080/",
     "height": 36
    },
    "id": "tY5ZlIXbGT6z",
    "outputId": "cf799eea-7ec6-47a8-e0ec-a01f4fccd901"
   },
   "outputs": [
    {
     "data": {
      "text/plain": [
       "(60000, 784)"
      ]
     },
     "execution_count": 6,
     "metadata": {},
     "output_type": "execute_result"
    }
   ],
   "source": [
    "# X_train reshape\n",
    "\n",
    "X_train.shape"
   ]
  },
  {
   "cell_type": "code",
   "execution_count": 7,
   "metadata": {
    "id": "y0-yHacPGVbC"
   },
   "outputs": [],
   "source": [
    "# Defining normal (non distributed) model\n",
    "\n",
    "model_normal = tf.keras.models.Sequential()\n",
    "model_normal.add(tf.keras.layers.Dense(units=128, activation='relu', input_shape=(784,)))\n",
    "model_normal.add(tf.keras.layers.Dropout(rate=0.2))\n",
    "model_normal.add(tf.keras.layers.Dense(units=10, activation='softmax'))\n",
    "model_normal.compile(optimizer='adam', loss='sparse_categorical_crossentropy', metrics=['sparse_categorical_accuracy'])"
   ]
  },
  {
   "cell_type": "code",
   "execution_count": 8,
   "metadata": {
    "id": "7eqaEeJ8IY5c"
   },
   "outputs": [
    {
     "name": "stdout",
     "output_type": "stream",
     "text": [
      "WARNING:tensorflow:There are non-GPU devices in `tf.distribute.Strategy`, not using nccl allreduce.\n",
      "INFO:tensorflow:Using MirroredStrategy with devices ('/job:localhost/replica:0/task:0/device:CPU:0',)\n"
     ]
    }
   ],
   "source": [
    "# Defining the Distributed Strategy\n",
    "\n",
    "distribute = tf.distribute.MirroredStrategy()"
   ]
  },
  {
   "cell_type": "code",
   "execution_count": 9,
   "metadata": {
    "id": "G1PqCVZHJWDS"
   },
   "outputs": [],
   "source": [
    "# Defining a distributed model\n",
    "\n",
    "with distribute.scope():\n",
    "  model_distributed = tf.keras.models.Sequential()\n",
    "  model_distributed.add(tf.keras.layers.Dense(units=128, activation='relu', input_shape=(784,)))\n",
    "  model_distributed.add(tf.keras.layers.Dropout(rate=0.2))\n",
    "  model_distributed.add(tf.keras.layers.Dense(units=10, activation='softmax'))\n",
    "  model_distributed.compile(optimizer='adam', loss='sparse_categorical_crossentropy', metrics=['sparse_categorical_accuracy'])"
   ]
  },
  {
   "cell_type": "code",
   "execution_count": 10,
   "metadata": {
    "colab": {
     "base_uri": "https://localhost:8080/",
     "height": 410
    },
    "id": "0DYLCQftM99q",
    "outputId": "a6b29cfe-d363-4279-8493-10a308a7ea76"
   },
   "outputs": [
    {
     "name": "stdout",
     "output_type": "stream",
     "text": [
      "Epoch 1/10\n",
      "2400/2400 [==============================] - 4s 2ms/step - loss: 0.5244 - sparse_categorical_accuracy: 0.8138\n",
      "Epoch 2/10\n",
      "2400/2400 [==============================] - 4s 2ms/step - loss: 0.3996 - sparse_categorical_accuracy: 0.8563\n",
      "Epoch 3/10\n",
      "2400/2400 [==============================] - 4s 2ms/step - loss: 0.3685 - sparse_categorical_accuracy: 0.8659\n",
      "Epoch 4/10\n",
      "2400/2400 [==============================] - 4s 2ms/step - loss: 0.3482 - sparse_categorical_accuracy: 0.8712\n",
      "Epoch 5/10\n",
      "2400/2400 [==============================] - 4s 2ms/step - loss: 0.3318 - sparse_categorical_accuracy: 0.8765\n",
      "Epoch 6/10\n",
      "2400/2400 [==============================] - 4s 2ms/step - loss: 0.3191 - sparse_categorical_accuracy: 0.8813\n",
      "Epoch 7/10\n",
      "2400/2400 [==============================] - 4s 2ms/step - loss: 0.3075 - sparse_categorical_accuracy: 0.8861\n",
      "Epoch 8/10\n",
      "2400/2400 [==============================] - 4s 2ms/step - loss: 0.3013 - sparse_categorical_accuracy: 0.8883\n",
      "Epoch 9/10\n",
      "2400/2400 [==============================] - 4s 2ms/step - loss: 0.2930 - sparse_categorical_accuracy: 0.8904\n",
      "Epoch 10/10\n",
      "2400/2400 [==============================] - 4s 2ms/step - loss: 0.2859 - sparse_categorical_accuracy: 0.8935\n",
      "Distributed training took: 41.898611068725586\n"
     ]
    }
   ],
   "source": [
    "# Speed comparison between normal training and distributed training proces\n",
    "\n",
    "start_time = time.time()\n",
    "model_distributed.fit(X_train, y_train, epochs=10, batch_size=25)\n",
    "print(\"Distributed training took: {}\".format(time.time() - start_time))"
   ]
  },
  {
   "cell_type": "code",
   "execution_count": 11,
   "metadata": {
    "colab": {
     "base_uri": "https://localhost:8080/",
     "height": 410
    },
    "id": "Ub9tQLLTNYTt",
    "outputId": "c4cc5540-1b01-44f6-963a-13e3eff7f91f"
   },
   "outputs": [
    {
     "name": "stdout",
     "output_type": "stream",
     "text": [
      "Epoch 1/10\n",
      "2400/2400 [==============================] - 3s 1ms/step - loss: 0.5185 - sparse_categorical_accuracy: 0.8159\n",
      "Epoch 2/10\n",
      "2400/2400 [==============================] - 3s 1ms/step - loss: 0.3970 - sparse_categorical_accuracy: 0.8557A: 0s - loss: 0.4003 - sparse_categori\n",
      "Epoch 3/10\n",
      "2400/2400 [==============================] - 3s 1ms/step - loss: 0.3653 - sparse_categorical_accuracy: 0.8662\n",
      "Epoch 4/10\n",
      "2400/2400 [==============================] - 3s 1ms/step - loss: 0.3466 - sparse_categorical_accuracy: 0.8715\n",
      "Epoch 5/10\n",
      "2400/2400 [==============================] - 3s 1ms/step - loss: 0.3302 - sparse_categorical_accuracy: 0.8776\n",
      "Epoch 6/10\n",
      "2400/2400 [==============================] - 4s 2ms/step - loss: 0.3178 - sparse_categorical_accuracy: 0.8815\n",
      "Epoch 7/10\n",
      "2400/2400 [==============================] - 4s 1ms/step - loss: 0.3112 - sparse_categorical_accuracy: 0.8841\n",
      "Epoch 8/10\n",
      "2400/2400 [==============================] - 3s 1ms/step - loss: 0.3012 - sparse_categorical_accuracy: 0.8873\n",
      "Epoch 9/10\n",
      "2400/2400 [==============================] - 3s 1ms/step - loss: 0.2933 - sparse_categorical_accuracy: 0.8891\n",
      "Epoch 10/10\n",
      "2400/2400 [==============================] - 3s 1ms/step - loss: 0.2869 - sparse_categorical_accuracy: 0.8935\n",
      "Normal training took: 35.15490984916687\n"
     ]
    }
   ],
   "source": [
    "# Normal training speed\n",
    "\n",
    "start_time = time.time()\n",
    "model_normal.fit(X_train, y_train, epochs=10, batch_size=25)\n",
    "print(\"Normal training took: {}\".format(time.time() - start_time))"
   ]
  }
 ],
 "metadata": {
  "accelerator": "GPU",
  "colab": {
   "collapsed_sections": [],
   "name": "Colab 14 - Distributed Training of TensorFlow 2.0 models.ipynb",
   "provenance": []
  },
  "kernelspec": {
   "display_name": "Python 3",
   "language": "python",
   "name": "python3"
  },
  "language_info": {
   "codemirror_mode": {
    "name": "ipython",
    "version": 3
   },
   "file_extension": ".py",
   "mimetype": "text/x-python",
   "name": "python",
   "nbconvert_exporter": "python",
   "pygments_lexer": "ipython3",
   "version": "3.8.6"
  }
 },
 "nbformat": 4,
 "nbformat_minor": 1
}
