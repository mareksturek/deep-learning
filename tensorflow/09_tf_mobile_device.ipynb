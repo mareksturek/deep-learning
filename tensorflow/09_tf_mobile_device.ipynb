{
 "cells": [
  {
   "cell_type": "markdown",
   "metadata": {
    "id": "gNCP2RT3RNtz"
   },
   "source": [
    "## Preparing Tensorflow model for mobile device"
   ]
  },
  {
   "cell_type": "markdown",
   "metadata": {
    "colab": {
     "base_uri": "https://localhost:8080/",
     "height": 467
    },
    "id": "RtAydW1fQ2Kg",
    "outputId": "cd47148e-c10d-48e0-87ae-f15f26c66fbe"
   },
   "source": [
    "---"
   ]
  },
  {
   "cell_type": "code",
   "execution_count": 1,
   "metadata": {
    "colab": {
     "base_uri": "https://localhost:8080/",
     "height": 36
    },
    "id": "p3kH8SQSSA6c",
    "outputId": "e8aeceed-7c71-4835-f266-1eefa7aca9d5"
   },
   "outputs": [],
   "source": [
    "# Import libraries\n",
    "\n",
    "import tensorflow as tf\n",
    "import numpy as np\n",
    "\n",
    "from tensorflow.keras.datasets import fashion_mnist"
   ]
  },
  {
   "cell_type": "code",
   "execution_count": 2,
   "metadata": {
    "colab": {
     "base_uri": "https://localhost:8080/",
     "height": 167
    },
    "id": "3s83WwJ2SnDr",
    "outputId": "bdfb42b5-2243-4c2c-80ff-8363ed6d09ed"
   },
   "outputs": [],
   "source": [
    "# Loading the FashionMNIST dataset\n",
    "\n",
    "(X_train, y_train), (X_test, y_test) = fashion_mnist.load_data()"
   ]
  },
  {
   "cell_type": "code",
   "execution_count": 3,
   "metadata": {
    "id": "rODvuie6Sz06"
   },
   "outputs": [],
   "source": [
    "# # Image normalization\n",
    "\n",
    "X_train = X_train / 255.\n",
    "X_test = X_test / 255."
   ]
  },
  {
   "cell_type": "code",
   "execution_count": 4,
   "metadata": {
    "colab": {
     "base_uri": "https://localhost:8080/",
     "height": 36
    },
    "id": "aBxZsTPBS4XJ",
    "outputId": "1c2377cb-3f47-4959-be84-fe84de51a705"
   },
   "outputs": [
    {
     "data": {
      "text/plain": [
       "(60000, 28, 28)"
      ]
     },
     "execution_count": 4,
     "metadata": {},
     "output_type": "execute_result"
    }
   ],
   "source": [
    "# X_train shape\n",
    "\n",
    "X_train.shape"
   ]
  },
  {
   "cell_type": "code",
   "execution_count": 5,
   "metadata": {
    "id": "5rPdViS9T1Xb"
   },
   "outputs": [],
   "source": [
    "# Reshaping of the dataset\n",
    "\n",
    "X_train = X_train.reshape(-1, 28*28)\n",
    "X_test = X_test.reshape(-1, 28*28)"
   ]
  },
  {
   "cell_type": "code",
   "execution_count": 6,
   "metadata": {
    "colab": {
     "base_uri": "https://localhost:8080/",
     "height": 36
    },
    "id": "Fbmf82l2UH3a",
    "outputId": "321579c3-38b7-483c-9661-1fecae5a46ee"
   },
   "outputs": [
    {
     "data": {
      "text/plain": [
       "(60000, 784)"
      ]
     },
     "execution_count": 6,
     "metadata": {},
     "output_type": "execute_result"
    }
   ],
   "source": [
    "# X_train reshape\n",
    "\n",
    "X_train.shape"
   ]
  },
  {
   "cell_type": "code",
   "execution_count": 7,
   "metadata": {
    "id": "db7lvvFXUKe6"
   },
   "outputs": [],
   "source": [
    "# Building a model\n",
    "\n",
    "model = tf.keras.models.Sequential()\n",
    "\n",
    "model.add(tf.keras.layers.Dense(units=128, activation='relu', input_shape=(784,)))\n",
    "model.add(tf.keras.layers.Dropout(rate=0.2))\n",
    "model.add(tf.keras.layers.Dense(units=10, activation='softmax'))"
   ]
  },
  {
   "cell_type": "code",
   "execution_count": 8,
   "metadata": {
    "id": "JZVOTYQXUgC5"
   },
   "outputs": [],
   "source": [
    "# Compiling the model\n",
    "\n",
    "model.compile(optimizer='adam', loss='sparse_categorical_crossentropy', metrics=['sparse_categorical_accuracy'])"
   ]
  },
  {
   "cell_type": "code",
   "execution_count": 9,
   "metadata": {
    "colab": {
     "base_uri": "https://localhost:8080/",
     "height": 223
    },
    "id": "oZnrU1MHVB4b",
    "outputId": "a4d4489b-c1d1-4dad-a400-0a01e07be44c"
   },
   "outputs": [
    {
     "name": "stdout",
     "output_type": "stream",
     "text": [
      "Epoch 1/5\n",
      "1875/1875 [==============================] - 3s 2ms/step - loss: 0.5318 - sparse_categorical_accuracy: 0.8110A: 4s - loss: - ETA: 0s - loss: 0.5499 - sparse_categorical_accurac\n",
      "Epoch 2/5\n",
      "1875/1875 [==============================] - 3s 1ms/step - loss: 0.4006 - sparse_categorical_accuracy: 0.8554\n",
      "Epoch 3/5\n",
      "1875/1875 [==============================] - 3s 2ms/step - loss: 0.3667 - sparse_categorical_accuracy: 0.8664\n",
      "Epoch 4/5\n",
      "1875/1875 [==============================] - 3s 2ms/step - loss: 0.3464 - sparse_categorical_accuracy: 0.8722\n",
      "Epoch 5/5\n",
      "1875/1875 [==============================] - 3s 2ms/step - loss: 0.3311 - sparse_categorical_accuracy: 0.8790\n"
     ]
    },
    {
     "data": {
      "text/plain": [
       "<tensorflow.python.keras.callbacks.History at 0x7fdafc401520>"
      ]
     },
     "execution_count": 9,
     "metadata": {},
     "output_type": "execute_result"
    }
   ],
   "source": [
    "# Training the model\n",
    "\n",
    "model.fit(X_train, y_train, epochs=5)"
   ]
  },
  {
   "cell_type": "code",
   "execution_count": 10,
   "metadata": {
    "colab": {
     "base_uri": "https://localhost:8080/",
     "height": 54
    },
    "id": "zUO2saLWWa3q",
    "outputId": "069372e4-ded2-40d1-b4d0-7841595f6662"
   },
   "outputs": [
    {
     "name": "stdout",
     "output_type": "stream",
     "text": [
      "313/313 [==============================] - 0s 1ms/step - loss: 0.3499 - sparse_categorical_accuracy: 0.8729\n",
      "Test accuracy: 0.8729000091552734\n"
     ]
    }
   ],
   "source": [
    "# Evaluating the model\n",
    "\n",
    "test_loss, test_accuracy = model.evaluate(X_test, y_test)\n",
    "print(\"Test accuracy: {}\".format(test_accuracy))"
   ]
  },
  {
   "cell_type": "code",
   "execution_count": 11,
   "metadata": {
    "id": "Lu3wsEWAXMFC"
   },
   "outputs": [],
   "source": [
    "# Saving the model\n",
    "\n",
    "model_name = 'fashion_mobile_model.h5'\n",
    "tf.keras.models.save_model(model, model_name)"
   ]
  },
  {
   "cell_type": "code",
   "execution_count": 13,
   "metadata": {
    "colab": {
     "base_uri": "https://localhost:8080/",
     "height": 187
    },
    "id": "7mgW1OGcYp5b",
    "outputId": "c6fafeba-09d8-40c3-880f-380b846c39c2"
   },
   "outputs": [],
   "source": [
    "# Converting the model into TensorFlow Lite version\n",
    "\n",
    "keras_model = tf.keras.models.load_model(\"/Users/mareksturek/Desktop/Projects/fashion_mobile_model.h5\")\n",
    "converter = tf.lite.TFLiteConverter.from_keras_model(keras_model)"
   ]
  },
  {
   "cell_type": "code",
   "execution_count": 14,
   "metadata": {
    "id": "-TpOJV5mZTRC"
   },
   "outputs": [
    {
     "name": "stdout",
     "output_type": "stream",
     "text": [
      "WARNING:tensorflow:From /Library/Frameworks/Python.framework/Versions/3.8/lib/python3.8/site-packages/tensorflow/python/training/tracking/tracking.py:111: Model.state_updates (from tensorflow.python.keras.engine.training) is deprecated and will be removed in a future version.\n",
      "Instructions for updating:\n",
      "This property should not be used in TensorFlow 2.0, as updates are applied automatically.\n",
      "WARNING:tensorflow:From /Library/Frameworks/Python.framework/Versions/3.8/lib/python3.8/site-packages/tensorflow/python/training/tracking/tracking.py:111: Layer.updates (from tensorflow.python.keras.engine.base_layer) is deprecated and will be removed in a future version.\n",
      "Instructions for updating:\n",
      "This property should not be used in TensorFlow 2.0, as updates are applied automatically.\n",
      "INFO:tensorflow:Assets written to: /var/folders/00/7t34g0sd3lx_rs7y6r11mhc00000gn/T/tmpx_mzf84u/assets\n"
     ]
    }
   ],
   "source": [
    "# Converting the model\n",
    "\n",
    "tflite_model = converter.convert()"
   ]
  },
  {
   "cell_type": "code",
   "execution_count": 15,
   "metadata": {
    "id": "9jqZ2zpmZnez"
   },
   "outputs": [],
   "source": [
    "# Saving the TFLite version of the model\n",
    "\n",
    "with open(\"tf_model.tflite\", \"wb\") as f:\n",
    "  f.write(tflite_model)"
   ]
  },
  {
   "cell_type": "code",
   "execution_count": 18,
   "metadata": {
    "colab": {
     "base_uri": "https://localhost:8080/",
     "height": 342
    },
    "id": "Gu72jphvtsu6",
    "outputId": "859f3654-d262-480f-f9f7-8b1a273e3341"
   },
   "outputs": [],
   "source": [
    "# Model Testing\n",
    "\n",
    "# interpreter = tf.lite.Interpreter(model_path=model_name)"
   ]
  }
 ],
 "metadata": {
  "accelerator": "GPU",
  "colab": {
   "collapsed_sections": [],
   "name": "Colab 13 - Preparing a TensorFlow model for a mobile device with TensorFlow Lite.ipynb",
   "provenance": []
  },
  "kernelspec": {
   "display_name": "Python 3",
   "language": "python",
   "name": "python3"
  },
  "language_info": {
   "codemirror_mode": {
    "name": "ipython",
    "version": 3
   },
   "file_extension": ".py",
   "mimetype": "text/x-python",
   "name": "python",
   "nbconvert_exporter": "python",
   "pygments_lexer": "ipython3",
   "version": "3.8.6"
  }
 },
 "nbformat": 4,
 "nbformat_minor": 1
}
